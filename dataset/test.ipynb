{
 "cells": [
  {
   "cell_type": "code",
   "execution_count": 60,
   "id": "fdf78390",
   "metadata": {},
   "outputs": [],
   "source": [
    "from bs4 import BeautifulSoup\n",
    "from selenium import webdriver \n",
    "from selenium.webdriver.chrome.options import Options\n",
    "import re \n",
    "import urllib\n",
    "import time\n",
    "#create a webdriver object and set options for headless browsing\n",
    "options = Options()\n",
    "options.headless = True\n",
    "driver = webdriver.Chrome('./chromedriver',options=options)"
   ]
  },
  {
   "cell_type": "code",
   "execution_count": 61,
   "id": "3a5eaec3",
   "metadata": {},
   "outputs": [],
   "source": [
    "def get_js_soup(url,driver):\n",
    "    driver.get(url)\n",
    "    res_html = driver.execute_script('return document.body.innerHTML')\n",
    "    soup = BeautifulSoup(res_html,'html.parser') #beautiful soup object to be used for parsing html content\n",
    "    return soup\n",
    "\n",
    "#tidies extracted text \n",
    "def process_doc(doc):\n",
    "    doc = doc.encode('ascii',errors='ignore').decode('utf-8')       #removes non-ascii characters\n",
    "    #doc = re.sub('\\s+','',doc)       #repalces repeated whitespace characters with single space\n",
    "    return doc\n",
    "\n",
    "''' More tidying\n",
    "Sometimes the text extracted HTML webpage may contain javascript code and some style elements. \n",
    "This function removes script and style tags from HTML so that extracted text does not contain them.\n",
    "'''\n",
    "def remove_script(soup):\n",
    "    for script in soup([\"script\", \"style\"]):\n",
    "        script.decompose()\n",
    "    return soup\n",
    "\n",
    "def scrape_page(url,driver):\n",
    "    soup = get_js_soup(url,driver)\n",
    "    homepage_found = False\n",
    "    doc = ''\n",
    "    profile_sec = soup.find_all('p')\n",
    "   \n",
    "    return doc\n",
    "def write_lst(lst,file_):\n",
    "    with open(file_,'w') as f:\n",
    "        for l in lst:\n",
    "            f.write(l)\n",
    "            f.write('\\n')\n"
   ]
  },
  {
   "cell_type": "code",
   "execution_count": null,
   "id": "9e464bf9",
   "metadata": {},
   "outputs": [],
   "source": [
    "\n"
   ]
  },
  {
   "cell_type": "code",
   "execution_count": 62,
   "id": "4a41f62b",
   "metadata": {},
   "outputs": [
    {
     "name": "stdout",
     "output_type": "stream",
     "text": [
      "current url is: https://en.wikipedia.org/wiki/Computer_science\n",
      "current url is: https://en.wikipedia.org/wiki/Computer_graphics_(computer_science)\n",
      "current url is: https://en.wikipedia.org/wiki/Semantics_(computer_science)\n",
      "current url is: https://en.wikipedia.org/wiki/History_of_computer_science\n",
      "current url is: https://en.wikipedia.org/wiki/Record_(computer_science)\n",
      "current url is: https://en.wikipedia.org/wiki/Computer_science_and_engineering\n",
      "current url is: https://en.wikipedia.org/wiki/State_(computer_science)\n",
      "current url is: https://en.wikipedia.org/wiki/Abstraction_(computer_science)\n",
      "current url is: https://en.wikipedia.org/wiki/Object_(computer_science)\n",
      "current url is: https://en.wikipedia.org/wiki/Macro_(computer_science)\n",
      "current url is: https://en.wikipedia.org/wiki/Biology\n",
      "current url is: https://en.wikipedia.org/wiki/Cell_(biology)\n",
      "current url is: https://en.wikipedia.org/wiki/Kingdom_(biology)\n",
      "current url is: https://en.wikipedia.org/wiki/Computational_biology\n",
      "current url is: https://en.wikipedia.org/wiki/Molecular_biology\n",
      "current url is: https://en.wikipedia.org/wiki/Domain_(biology)\n",
      "current url is: https://en.wikipedia.org/wiki/Cell_biology\n",
      "current url is: https://en.wikipedia.org/wiki/Systems_biology\n",
      "current url is: https://en.wikipedia.org/wiki/Order_(biology)\n",
      "current url is: https://en.wikipedia.org/wiki/Family_(biology)\n",
      "current url is: https://en.wikipedia.org/wiki/Mathematics\n",
      "current url is: https://en.wikipedia.org/wiki/Discrete_mathematics\n",
      "current url is: https://en.wikipedia.org/wiki/History_of_mathematics\n",
      "current url is: https://en.wikipedia.org/wiki/Applied_mathematics\n",
      "current url is: https://en.wikipedia.org/wiki/Function_(mathematics)\n",
      "current url is: https://en.wikipedia.org/wiki/Matrix_(mathematics)\n",
      "current url is: https://en.wikipedia.org/wiki/Mathematical_analysis\n",
      "current url is: https://en.wikipedia.org/wiki/Set_(mathematics)\n",
      "current url is: https://en.wikipedia.org/wiki/Recreational_mathematics\n",
      "current url is: https://en.wikipedia.org/wiki/Mathematics_(producer)\n",
      "current url is: https://en.wikipedia.org/wiki/Physics\n",
      "current url is: https://en.wikipedia.org/wiki/Power_(physics)\n",
      "current url is: https://en.wikipedia.org/wiki/Particle_physics\n",
      "current url is: https://en.wikipedia.org/wiki/Nobel_Prize_in_Physics\n",
      "current url is: https://en.wikipedia.org/wiki/Plasma_(physics)\n",
      "current url is: https://en.wikipedia.org/wiki/Theoretical_physics\n",
      "current url is: https://en.wikipedia.org/wiki/Quantum_mechanics\n",
      "current url is: https://en.wikipedia.org/wiki/Outline_of_physics\n",
      "current url is: https://en.wikipedia.org/wiki/Nuclear_physics\n",
      "current url is: https://en.wikipedia.org/wiki/History_of_physics\n",
      "current url is: https://en.wikipedia.org/wiki/Electrical_engineering\n",
      "current url is: https://en.wikipedia.org/wiki/Outline_of_electrical_engineering\n",
      "current url is: https://en.wikipedia.org/wiki/Bachelor_of_Engineering\n",
      "current url is: https://en.wikipedia.org/wiki/Institute_of_Electrical_and_Electronics_Engineers\n",
      "current url is: https://en.wikipedia.org/wiki/Computer_engineering\n",
      "current url is: https://en.wikipedia.org/wiki/Electronic_engineering\n",
      "current url is: https://en.wikipedia.org/wiki/Computer_science_and_engineering\n",
      "current url is: https://en.wikipedia.org/wiki/History_of_electrical_engineering\n",
      "current url is: https://en.wikipedia.org/wiki/Electrical_engineering_technology\n",
      "current url is: https://en.wikipedia.org/wiki/List_of_engineering_branches\n",
      "current url is: https://en.wikipedia.org/wiki/Astronomy\n",
      "current url is: https://en.wikipedia.org/wiki/Astronomy_(disambiguation)\n",
      "current url is: https://en.wikipedia.org/wiki/History_of_astronomy\n",
      "current url is: https://en.wikipedia.org/wiki/Indian_astronomy\n",
      "current url is: https://en.wikipedia.org/wiki/Sun\n",
      "current url is: https://en.wikipedia.org/wiki/Glossary_of_astronomy\n",
      "current url is: https://en.wikipedia.org/wiki/Babylonian_astronomy\n",
      "current url is: https://en.wikipedia.org/wiki/Cultural_astronomy\n",
      "current url is: https://en.wikipedia.org/wiki/Observational_astronomy\n",
      "current url is: https://en.wikipedia.org/wiki/Asterism_(astronomy)\n",
      "current url is: https://en.wikipedia.org/wiki/History\n",
      "current url is: https://en.wikipedia.org/wiki/HIStory:_Past,_Present_and_Future,_Book_I\n",
      "current url is: https://en.wikipedia.org/wiki/History_of_Boeing\n",
      "current url is: https://en.wikipedia.org/wiki/Art_history\n",
      "current url is: https://en.wikipedia.org/wiki/History_of_cotton\n",
      "current url is: https://en.wikipedia.org/wiki/Population_history_of_China\n",
      "current url is: https://en.wikipedia.org/wiki/History_of_Romania\n",
      "current url is: https://en.wikipedia.org/wiki/Natural_History_Museum,_London\n",
      "current url is: https://en.wikipedia.org/wiki/Alternate_history\n",
      "current url is: https://en.wikipedia.org/wiki/History_of_the_Philadelphia_Athletics\n"
     ]
    }
   ],
   "source": [
    "urls_path = 'urls.txt'\n",
    "f1 = open(urls_path,\"r\")\n",
    "urls = f1.readlines()\n",
    "url_list = []\n",
    "for i in range(len(urls)):\n",
    "    urls[i] = urls[i].strip('\\n')\n",
    "    url_list.append(urls[i])\n",
    "len(url_list)\n",
    "docs = []\n",
    "docs_path = 'docs.txt'\n",
    "for j in url_list:\n",
    "    url  = j\n",
    "    print(\"current url is:\", url)\n",
    "    soup = get_js_soup(url,driver)\n",
    "    single_doc = ''\n",
    "    for i in soup.find_all('p'):\n",
    "        text = i.get_text()\n",
    "        single_doc = single_doc + text\n",
    "    single_doc = process_doc(single_doc)\n",
    "    #print(single_doc)\n",
    "    if single_doc.strip()!='':\n",
    "        docs.append(single_doc)\n",
    "driver.close()\n",
    "write_lst(docs,docs_path)"
   ]
  },
  {
   "cell_type": "code",
   "execution_count": 63,
   "id": "970669b5",
   "metadata": {},
   "outputs": [
    {
     "data": {
      "text/plain": [
       "70"
      ]
     },
     "execution_count": 63,
     "metadata": {},
     "output_type": "execute_result"
    }
   ],
   "source": [
    "len(docs)"
   ]
  },
  {
   "cell_type": "code",
   "execution_count": null,
   "id": "4841e342",
   "metadata": {},
   "outputs": [],
   "source": []
  }
 ],
 "metadata": {
  "kernelspec": {
   "display_name": "Python 3",
   "language": "python",
   "name": "python3"
  },
  "language_info": {
   "codemirror_mode": {
    "name": "ipython",
    "version": 3
   },
   "file_extension": ".py",
   "mimetype": "text/x-python",
   "name": "python",
   "nbconvert_exporter": "python",
   "pygments_lexer": "ipython3",
   "version": "3.8.8"
  }
 },
 "nbformat": 4,
 "nbformat_minor": 5
}
